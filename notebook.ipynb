{
  "cells": [
    {
      "metadata": {
        "_uuid": "e50b25909919b31cc41f5585c7b45e64909133bb"
      },
      "cell_type": "markdown",
      "source": "# Avito Demand Prediction Challenge\n-> O que é<br/>\n-> O que queremos fazer<br/>\n-> Como pensamos em fazer, utilizando quais arquivos\n"
    },
    {
      "metadata": {
        "_uuid": "8f2839f25d086af736a60e9eeb907d3b93b6e0e5",
        "_cell_guid": "b1076dfc-b9ad-4769-8c92-a6c4dae69d19",
        "trusted": true,
        "collapsed": true
      },
      "cell_type": "code",
      "source": "#importing important modules\nimport numpy as np # linear algebra\nfrom pandas import read_csv # data processing, CSV file I/O (e.g. pd.read_csv)\nfrom sklearn.preprocessing import LabelEncoder\nfrom sklearn import tree\n\n# Input data files are available in the \"../input/\" directory.\n# For example, running this (by clicking run or pressing Shift+Enter) will list the files in the input directory\nimport os\n# Any results you write to the current directory are saved as output.",
      "execution_count": 35,
      "outputs": []
    },
    {
      "metadata": {
        "trusted": true,
        "collapsed": true,
        "_uuid": "03e4208cd85d4fdbb23ddd784fa86be46eafad58"
      },
      "cell_type": "markdown",
      "source": "* Explorar, visualizar,\n* sklearn preprocess encode\n* treino arvore\n"
    },
    {
      "metadata": {
        "_uuid": "2f00cf288c95d4801f3b5400c637c20678cc6e5a"
      },
      "cell_type": "markdown",
      "source": "Lendo CSVs"
    },
    {
      "metadata": {
        "trusted": true,
        "_uuid": "609ea2e890de76ce6be9aa58b31aa6289a5a3549",
        "collapsed": true
      },
      "cell_type": "code",
      "source": "#reading the csv's\ntrain = read_csv('../input/train.csv')\ntest = read_csv('../input/test.csv')",
      "execution_count": 41,
      "outputs": []
    },
    {
      "metadata": {
        "trusted": true,
        "_uuid": "c3f9000b38454e20416e7fd09c907060972db4fe",
        "collapsed": true
      },
      "cell_type": "code",
      "source": "print('Train Columns ',train.columns)\nprint('Test Columns ',test.columns)",
      "execution_count": 42,
      "outputs": []
    },
    {
      "metadata": {
        "trusted": true,
        "_uuid": "4f06dbd4b723bdde5290077c624701e27c3fe8ad",
        "collapsed": true
      },
      "cell_type": "code",
      "source": "#dropping some columns\ntrain = train.drop(['image', 'image_top_1'], axis = 1)\ntest = test.drop(['image', 'image_top_1'], axis = 1)\n\nY_df = train['deal_probability']\ntrain_df = train.drop(['item_id','activation_date','user_type', 'title','description','deal_probability'], axis = 1)",
      "execution_count": 43,
      "outputs": []
    },
    {
      "metadata": {
        "trusted": true,
        "_uuid": "b5cb38de352063d64e40fca426a0497a39a24580",
        "scrolled": true,
        "collapsed": true
      },
      "cell_type": "code",
      "source": "print ('Train shape: ',train.shape)\nprint ('Test shape: ',test.shape)",
      "execution_count": 44,
      "outputs": []
    },
    {
      "metadata": {
        "trusted": true,
        "_uuid": "1d7b5cc9bd3279351d52f4d934bec6fc4bb2d4c2",
        "collapsed": true
      },
      "cell_type": "code",
      "source": "train",
      "execution_count": 6,
      "outputs": []
    },
    {
      "metadata": {
        "trusted": true,
        "collapsed": true,
        "_uuid": "f0618cae0c981233d91417f02ad9acb71e0705b4"
      },
      "cell_type": "markdown",
      "source": "# O que será testado\nUma visualização melhor dos dados pode mostrar quais colunas são realmente importantes para o target. Logo de cara, *user_type* ou *user_type* não apresentam, intuitivamente, influência sobre a probabilidade. A Descrição e o título, por sua vez, tratam-se de textos e configuram um cenário que há de ser tratado distintamente dos demais dados categóricos.\n\nUm bom teste seria realizar um treino base com as colunas base."
    },
    {
      "metadata": {
        "trusted": true,
        "_uuid": "7e5d70010b1052fa5c7f42a815cc947722e1b8f5",
        "collapsed": true
      },
      "cell_type": "code",
      "source": "#transforming columns\nenc = LabelEncoder()\nfor col in train_df.columns:\n    print (col)\n    train_df[col] = enc.fit_transform(train_df[col].values.astype(str))\nY_df = enc.fit_transform(Y_df)",
      "execution_count": 45,
      "outputs": []
    },
    {
      "metadata": {
        "trusted": true,
        "_uuid": "c5915ba8d4076edd8b2737cc27b3624699ec213a",
        "collapsed": true
      },
      "cell_type": "code",
      "source": "print ('Train shape: ',train_df.shape)\nprint ('Test shape: ',test.shape)",
      "execution_count": 46,
      "outputs": []
    },
    {
      "metadata": {
        "_uuid": "1dbe8eb2c26c7da7e1cb3831791fe3bdb867b00b"
      },
      "cell_type": "markdown",
      "source": "# Iniciando o treinamento com o dataset\nNesta parte, será iniciado o treinamento com o dataset que foi pré-processado acima. Nós estamos utilizando *colocar os métodos utilizados aqui e seus motivos*"
    },
    {
      "metadata": {
        "trusted": true,
        "_uuid": "e763564c8f37ae65e2e9d091e69d8e864d7d81ac",
        "collapsed": true
      },
      "cell_type": "code",
      "source": "train_df_fit = train_df[:5000]\nY_df_fit = Y_df[:5000]\n\nprint ('Train shape: ',train_df_fit.shape)\nprint ('Test shape: ',test.shape)\nprint ('Y_df: ', Y_df_fit.shape)",
      "execution_count": 47,
      "outputs": []
    },
    {
      "metadata": {
        "trusted": true,
        "_uuid": "fa9e111ba1d06e9b36c2419396a02a54850ecc43",
        "collapsed": true
      },
      "cell_type": "code",
      "source": "#fazendo o treinamento com fit\nclf = tree.DecisionTreeClassifier()\nclf = clf.fit(train_df_fit, Y_df_fit)",
      "execution_count": 48,
      "outputs": []
    },
    {
      "metadata": {
        "trusted": true,
        "_uuid": "4dcaf55769edb0ccbe2686c1355d57bbfd9089e7",
        "collapsed": true
      },
      "cell_type": "code",
      "source": "#testando o quanto o modelo consegue acertar com score\ntrain_df_test = train_df[5000:10000]\nY_df_test = Y_df[5000:10000]\nclf.score(train_df_test, Y_df_test)",
      "execution_count": 49,
      "outputs": []
    },
    {
      "metadata": {
        "trusted": true,
        "_uuid": "720837f3e50f32527413c36ecbc4c065b3ba5f31",
        "collapsed": true
      },
      "cell_type": "code",
      "source": "#tirando colunas que não foram utilizadas\n# print('Test labels: ', test)\ntest_df = test.drop(['item_id','activation_date','user_type', 'title','description'], axis = 1)\ntest_df = test_df[:1000]\nprint('New test: ', test_df.shape)\n",
      "execution_count": 50,
      "outputs": []
    },
    {
      "metadata": {
        "trusted": true,
        "_uuid": "b614567734daaf709d75c396aaf476444f33ccf2",
        "collapsed": true
      },
      "cell_type": "code",
      "source": "#fazendo encoder\nfor col in test_df.columns:\n    print (col)\n    test_df[col] = enc.fit_transform(test_df[col].values.astype(str))",
      "execution_count": 51,
      "outputs": []
    },
    {
      "metadata": {
        "trusted": true,
        "_uuid": "6071f69f942385f993234998e36b2d500236505e",
        "collapsed": true
      },
      "cell_type": "code",
      "source": "#predict\nres = clf.predict(test_df)\nprint(res)",
      "execution_count": 52,
      "outputs": []
    },
    {
      "metadata": {
        "trusted": true,
        "_uuid": "c01a70edc3e5f7b16e9d7cacc2fd49731a1fad66",
        "collapsed": true
      },
      "cell_type": "code",
      "source": "enc.inverse_transform(res)",
      "execution_count": 53,
      "outputs": []
    }
  ],
  "metadata": {
    "kernelspec": {
      "display_name": "Python 3",
      "language": "python",
      "name": "python3"
    },
    "language_info": {
      "name": "python",
      "version": "3.6.5",
      "mimetype": "text/x-python",
      "codemirror_mode": {
        "name": "ipython",
        "version": 3
      },
      "pygments_lexer": "ipython3",
      "nbconvert_exporter": "python",
      "file_extension": ".py"
    }
  },
  "nbformat": 4,
  "nbformat_minor": 1
}