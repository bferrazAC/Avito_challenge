{
  "nbformat": 4,
  "nbformat_minor": 0,
  "metadata": {
    "colab": {
      "name": "trabalho-mineracao.ipynb",
      "version": "0.3.2",
      "views": {},
      "default_view": {},
      "provenance": []
    },
    "kernelspec": {
      "name": "python2",
      "display_name": "Python 2"
    }
  },
  "cells": [
    {
      "metadata": {
        "id": "Sx9-nbowfZu9",
        "colab_type": "text"
      },
      "cell_type": "markdown",
      "source": [
        "# New Section"
      ]
    },
    {
      "metadata": {
        "id": "tg5_38wae_Bk",
        "colab_type": "toc"
      },
      "cell_type": "markdown",
      "source": [
        "o que fazer?\n",
        "- treinar com item_id, user_id, deal_probability\n",
        "- usando arvore de decisao: \n",
        "```\n",
        ">>> from sklearn import tree\n",
        ">>> X = [[0, 0], [1, 1]]\n",
        ">>> Y = [0, 1]\n",
        ">>> clf = tree.DecisionTreeClassifier()\n",
        ">>> clf = clf.fit(X, Y)\n",
        "```\n",
        "- \n",
        "\n"
      ]
    },
    {
      "metadata": {
        "id": "1dtJ7SkDeNuK",
        "colab_type": "code",
        "colab": {
          "autoexec": {
            "startup": false,
            "wait_interval": 0
          }
        }
      },
      "cell_type": "code",
      "source": [
        "import numpy as np\n",
        "import pandas as np\n",
        "import sklearn \n",
        "import html5lib\n",
        "import requests\n",
        "import csv\n",
        "import urllib2"
      ],
      "execution_count": 0,
      "outputs": []
    },
    {
      "metadata": {
        "id": "86JpsXkFlGfc",
        "colab_type": "code",
        "colab": {
          "autoexec": {
            "startup": false,
            "wait_interval": 0
          },
          "base_uri": "https://localhost:8080/",
          "height": 782
        },
        "outputId": "f3c04def-0f54-465f-9574-b54c17b41b29",
        "executionInfo": {
          "status": "ok",
          "timestamp": 1527459305997,
          "user_tz": 180,
          "elapsed": 690,
          "user": {
            "displayName": "Leticia F",
            "photoUrl": "//lh5.googleusercontent.com/-n-6QKPYcE-U/AAAAAAAAAAI/AAAAAAAABHM/uLhRurf7Bss/s50-c-k-no/photo.jpg",
            "userId": "116694202895994595329"
          }
        }
      },
      "cell_type": "code",
      "source": [
        "import pandas as pd\n",
        "import io\n",
        "import requests\n",
        "url=\"https://raw.githubusercontent.com/codeforamerica/ohana-api/master/data/sample-csv/addresses.csv\"\n",
        "s=requests.get(url).content\n",
        "c=pd.read_csv(io.StringIO(s.decode('utf-8')))\n",
        "print c"
      ],
      "execution_count": 35,
      "outputs": [
        {
          "output_type": "stream",
          "text": [
            "    id  location_id                   address_1  address_2  \\\n",
            "0    1            1       2600 Middlefield Road        NaN   \n",
            "1    2            2            24 Second Avenue        NaN   \n",
            "2    3            3            24 Second Avenue        NaN   \n",
            "3    4            4            24 Second Avenue        NaN   \n",
            "4    5            5            24 Second Avenue        NaN   \n",
            "5    6            6           800 Middle Avenue        NaN   \n",
            "6    7            7              500 Arbor Road        NaN   \n",
            "7    8            8           800 Middle Avenue        NaN   \n",
            "8    9            9       2510 Middlefield Road        NaN   \n",
            "9   10           10       1044 Middlefield Road        NaN   \n",
            "10  11           11         2140 Euclid Avenue.        NaN   \n",
            "11  12           12       1044 Middlefield Road  2nd Floor   \n",
            "12  13           13         399 Marine Parkway.        NaN   \n",
            "13  14           14          660 Veterans Blvd.        NaN   \n",
            "14  15           15        1500 Valencia Street        NaN   \n",
            "15  16           16         1161 South Bernardo        NaN   \n",
            "16  17           17     409 South Spruce Avenue        NaN   \n",
            "17  18           18            114 Fifth Avenue        NaN   \n",
            "18  19           19         19 West 39th Avenue        NaN   \n",
            "19  20           21          123 El Camino Real        NaN   \n",
            "20  21           22  2013 Avenue of the fellows  Suite 100   \n",
            "\n",
            "                   city state_province postal_code country  \n",
            "0          Redwood City             CA       94063      US  \n",
            "1             San Mateo             CA       94401      US  \n",
            "2             San Mateo             CA       94403      US  \n",
            "3             San Mateo             CA       94401      US  \n",
            "4             San Mateo             CA       94401      US  \n",
            "5            Menlo Park             CA  94025-9881      US  \n",
            "6            Menlo Park             CA       94025      US  \n",
            "7            Menlo Park             CA  94025-9881      US  \n",
            "8          Redwood City             CA       94063      US  \n",
            "9          Redwood City             CA       94063      US  \n",
            "10         Redwood City             CA       94061      US  \n",
            "11         Redwood City             CA       94063      US  \n",
            "12         Redwood City             CA       94065      US  \n",
            "13         Redwood City             CA       94063      US  \n",
            "14        San Francisco             CA       94110      US  \n",
            "15            Sunnyvale             CA       94087      US  \n",
            "16  South San Francisco             CA       94080      US  \n",
            "17         Redwood City             CA       94063      US  \n",
            "18            San Mateo             CA       94403      US  \n",
            "19              Belmont             CA       94002      US  \n",
            "20        San Francisco             CA       94103      US  \n"
          ],
          "name": "stdout"
        }
      ]
    },
    {
      "metadata": {
        "id": "GMqebHBjfuJc",
        "colab_type": "text"
      },
      "cell_type": "markdown",
      "source": [
        ""
      ]
    },
    {
      "metadata": {
        "id": "x42lp-6Bfa0X",
        "colab_type": "text"
      },
      "cell_type": "markdown",
      "source": [
        ""
      ]
    }
  ]
}