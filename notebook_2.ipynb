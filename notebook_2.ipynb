{
  "cells": [
    {
      "metadata": {
        "_uuid": "739899765af45c322620bfb970140ba1b946f52e"
      },
      "cell_type": "markdown",
      "source": "# Avito Demand Prediction Challenge\nNesta competição, o Avito - site de anúncios da Rússia, similar ao Mercado Livre no Brasil - está disposto a descobrir qual a relação entre a descrição completa de um anúncio, seu contexto e demanda histórica anúncios semelhantes e o sucesso (ou fracasso) de vendas daquele produto. Para isto, disponibilizou datasets com todas essas informações e qual a probabilidade daqueles produtos venderem.\n\nPara isto, iremos utilizar métodos de mineração de dados para predizer a probabilidade de um certo conjunto de produtos vender, usando seu anúncio e informações relevantes correspondentes. Inicialmente, utilizamos apenas um dataset disponível com muitas informações que apararentemente são relevantes para treinar nossos métodos. Fizemos uso dos seguintes métodos: SVM, Árvore de Decisão e Gradient Boosting. Em cada um deles, treinamos com o mesmo dataset e calculamos seu score com o mesmo datatset de teste. Os resultados são mostrados ao decorrer do relatório.\n"
    },
    {
      "metadata": {
        "_uuid": "8f2839f25d086af736a60e9eeb907d3b93b6e0e5",
        "_cell_guid": "b1076dfc-b9ad-4769-8c92-a6c4dae69d19",
        "trusted": true,
        "collapsed": true
      },
      "cell_type": "code",
      "source": "#importing important modules\nimport numpy as np # linear algebra\nfrom pandas import read_csv, SparseSeries # data processing, CSV file I/O (e.g. pd.read_csv)\nfrom sklearn.feature_extraction.text import HashingVectorizer, TfidfTransformer, CountVectorizer\nfrom sklearn.model_selection import KFold #KFold\nfrom sklearn.preprocessing import LabelEncoder\nfrom sklearn import svm #SVM\nfrom sklearn import tree # DecisionTreeClassifier\nfrom nltk.corpus import stopwords\n# Input data files are available in the \"../input/\" directory.\n# For example, running this (by clicking run or pressing Shift+Enter) will list the files in the input directory\nimport os\n# Any results you write to the current directory are saved as output.",
      "execution_count": 8,
      "outputs": []
    },
    {
      "metadata": {
        "_cell_guid": "79c7e3d0-c299-4dcb-8224-4455121ee9b0",
        "collapsed": true,
        "_uuid": "d629ff2d2480ee46fbb7e2d37f6b5fab8052498a",
        "trusted": false
      },
      "cell_type": "markdown",
      "source": "## Preparação dos dados\n\n"
    },
    {
      "metadata": {
        "trusted": true,
        "_uuid": "a9c3343af1e295a8304cbf00b1595bf65d6943c0"
      },
      "cell_type": "code",
      "source": "#reading the csv's\ntrain = read_csv('../input/train.csv')\ntest = read_csv('../input/test.csv')\nprint ('Data loaded')",
      "execution_count": 2,
      "outputs": [
        {
          "output_type": "stream",
          "text": "Data loaded\n",
          "name": "stdout"
        }
      ]
    },
    {
      "metadata": {
        "_uuid": "35bcb60645fde6a58cbdd75aaf6cbae17eb53f29"
      },
      "cell_type": "markdown",
      "source": "Abaixo, mostramos o que há em cada um dos datasets que lemos. O objeto *train* possui os dados que serão usados no treino. Nele, também estão as probabilidades correspondentes a cada anúncio. O objeto *test* será usado para o teste. No *test*, diferente do *train*, não há esses valores de probabilidade, que deverão ser \"descobertos\" pelo método que avaliarmos o melhor."
    },
    {
      "metadata": {
        "trusted": true,
        "_uuid": "920ce4409c59e5aa67e5fb2f960511ec06376d57",
        "collapsed": true
      },
      "cell_type": "code",
      "source": "print('Train Columns: ',train.columns)\nprint('Test Columns: ',test.columns)",
      "execution_count": 3,
      "outputs": []
    },
    {
      "metadata": {
        "_uuid": "cf9757abf92802dbb228ff19260102eb0f1e6bc1"
      },
      "cell_type": "markdown",
      "source": "Como não serão usadas todas as informações disponíveis no dataset, estamos retirando as suas colunas correspondentes a essas informações que não serão utilizadas."
    },
    {
      "metadata": {
        "trusted": true,
        "_uuid": "eea1f056f4ae69a532dc461fdb9069bb6eec9433"
      },
      "cell_type": "code",
      "source": "#dropping some columns\ntrain = train.drop(['image', 'image_top_1'], axis = 1)\ntest = test.drop(['image', 'image_top_1'], axis = 1)\n\nY_df = train['deal_probability']\ntrain_df = train.drop(['item_id','activation_date','user_type', 'title','description','deal_probability'], axis = 1)\nenc_df = train.append(test).drop(['item_id','activation_date','user_type', 'title','description','deal_probability'], axis = 1)",
      "execution_count": 3,
      "outputs": [
        {
          "output_type": "stream",
          "text": "/opt/conda/lib/python3.6/site-packages/pandas/core/frame.py:6201: FutureWarning: Sorting because non-concatenation axis is not aligned. A future version\nof pandas will change to not sort by default.\n\nTo accept the future behavior, pass 'sort=True'.\n\nTo retain the current behavior and silence the warning, pass sort=False\n\n  sort=sort)\n",
          "name": "stderr"
        }
      ]
    },
    {
      "metadata": {
        "_uuid": "dbcd21ceff5b4f3a79eb459942ffb844e1cb3ad1"
      },
      "cell_type": "markdown",
      "source": "Uma visualização melhor dos dados pode mostrar quais colunas são realmente importantes para o target. Logo de cara, *user_type* ou *user_type* não apresentam, intuitivamente, influência sobre a probabilidade. A Descrição e o título, por sua vez, tratam-se de textos e configuram um cenário que há de ser tratado distintamente dos demais dados categóricos.\n\nUm bom teste seria realizar um treino base com as colunas base."
    },
    {
      "metadata": {
        "trusted": true,
        "_uuid": "9d3dc71d521c45536e5b443481279b56b37ac531"
      },
      "cell_type": "code",
      "source": "train",
      "execution_count": 4,
      "outputs": [
        {
          "output_type": "execute_result",
          "execution_count": 4,
          "data": {
            "text/plain": "              item_id       ...        deal_probability\n0        b912c3c6a6ad       ...                 0.12789\n1        2dac0150717d       ...                 0.00000\n2        ba83aefab5dc       ...                 0.43177\n3        02996f1dd2ea       ...                 0.80323\n4        7c90be56d2ab       ...                 0.20797\n5        51e0962387f7       ...                 0.80323\n6        c4f260a2b48a       ...                 0.00000\n7        6b71309d6a8a       ...                 0.80323\n8        c5b969cb63a2       ...                 0.00000\n9        b1570962e68c       ...                 0.00000\n10       d5480bb4a6e4       ...                 0.58853\n11       86f41f50d8c1       ...                 0.00000\n12       645237cb3601       ...                 0.13858\n13       df2116f34563       ...                 0.00000\n14       a97943ae8158       ...                 0.00000\n15       4b6abd0a5921       ...                 0.00000\n16       7896ef8fe482       ...                 0.32100\n17       7882b1e77748       ...                 0.00000\n18       071e1ed13c5c       ...                 0.00000\n19       0658628930d4       ...                 0.10342\n20       ea12aec32ec3       ...                 0.00000\n21       838a82cec0a6       ...                 0.00000\n22       de310e6aae86       ...                 0.10334\n23       08b24e170109       ...                 0.00000\n24       065a4daba35f       ...                 0.00000\n25       990113ae4f1c       ...                 0.10796\n26       78164bc09657       ...                 0.00000\n27       fbe29970a8a5       ...                 0.00000\n28       71d9399b59a2       ...                 0.00000\n29       4941f0385575       ...                 0.00000\n...               ...       ...                     ...\n1503394  c346749a7127       ...                 0.33720\n1503395  3c073bb117d8       ...                 0.00000\n1503396  6fcc0d49b22d       ...                 0.00000\n1503397  f7cb51309717       ...                 0.00000\n1503398  cb74d5fa1498       ...                 0.00000\n1503399  55760672b23e       ...                 0.00000\n1503400  15dc060224ab       ...                 0.00000\n1503401  87cb486a418d       ...                 0.14989\n1503402  5e317564107b       ...                 0.23044\n1503403  d630ca83fc9e       ...                 0.00000\n1503404  732b69fced92       ...                 0.01232\n1503405  fc8ff7c77732       ...                 0.00000\n1503406  bb532fcc7dec       ...                 0.86521\n1503407  ff2a88b765c6       ...                 0.00000\n1503408  d23a9e2a65e1       ...                 0.12384\n1503409  79386f3f2573       ...                 0.12459\n1503410  2bc8c895545b       ...                 0.00000\n1503411  43ad2ec1cd29       ...                 0.00000\n1503412  872691eb6232       ...                 0.00000\n1503413  00b6a41d5af9       ...                 0.00000\n1503414  72be5f7bac89       ...                 0.00000\n1503415  d4bf418c598e       ...                 0.00000\n1503416  a927b25d4daa       ...                 0.00000\n1503417  21a474db168f       ...                 0.73760\n1503418  8ab4c1e56046       ...                 0.12869\n1503419  5e6b7f0f3f65       ...                 0.25019\n1503420  d1f0910d2126       ...                 0.60000\n1503421  bc04866bc803       ...                 0.39569\n1503422  f782f2ad9349       ...                 0.00000\n1503423  9ad3b7bff1db       ...                 0.00000\n\n[1503424 rows x 16 columns]",
            "text/html": "<div>\n<style scoped>\n    .dataframe tbody tr th:only-of-type {\n        vertical-align: middle;\n    }\n\n    .dataframe tbody tr th {\n        vertical-align: top;\n    }\n\n    .dataframe thead th {\n        text-align: right;\n    }\n</style>\n<table border=\"1\" class=\"dataframe\">\n  <thead>\n    <tr style=\"text-align: right;\">\n      <th></th>\n      <th>item_id</th>\n      <th>user_id</th>\n      <th>region</th>\n      <th>city</th>\n      <th>parent_category_name</th>\n      <th>category_name</th>\n      <th>param_1</th>\n      <th>param_2</th>\n      <th>param_3</th>\n      <th>title</th>\n      <th>description</th>\n      <th>price</th>\n      <th>item_seq_number</th>\n      <th>activation_date</th>\n      <th>user_type</th>\n      <th>deal_probability</th>\n    </tr>\n  </thead>\n  <tbody>\n    <tr>\n      <th>0</th>\n      <td>b912c3c6a6ad</td>\n      <td>e00f8ff2eaf9</td>\n      <td>Свердловская область</td>\n      <td>Екатеринбург</td>\n      <td>Личные вещи</td>\n      <td>Товары для детей и игрушки</td>\n      <td>Постельные принадлежности</td>\n      <td>NaN</td>\n      <td>NaN</td>\n      <td>Кокоби(кокон для сна)</td>\n      <td>Кокон для сна малыша,пользовались меньше месяц...</td>\n      <td>400.0</td>\n      <td>2</td>\n      <td>2017-03-28</td>\n      <td>Private</td>\n      <td>0.12789</td>\n    </tr>\n    <tr>\n      <th>1</th>\n      <td>2dac0150717d</td>\n      <td>39aeb48f0017</td>\n      <td>Самарская область</td>\n      <td>Самара</td>\n      <td>Для дома и дачи</td>\n      <td>Мебель и интерьер</td>\n      <td>Другое</td>\n      <td>NaN</td>\n      <td>NaN</td>\n      <td>Стойка для Одежды</td>\n      <td>Стойка для одежды, под вешалки. С бутика.</td>\n      <td>3000.0</td>\n      <td>19</td>\n      <td>2017-03-26</td>\n      <td>Private</td>\n      <td>0.00000</td>\n    </tr>\n    <tr>\n      <th>2</th>\n      <td>ba83aefab5dc</td>\n      <td>91e2f88dd6e3</td>\n      <td>Ростовская область</td>\n      <td>Ростов-на-Дону</td>\n      <td>Бытовая электроника</td>\n      <td>Аудио и видео</td>\n      <td>Видео, DVD и Blu-ray плееры</td>\n      <td>NaN</td>\n      <td>NaN</td>\n      <td>Philips bluray</td>\n      <td>В хорошем состоянии, домашний кинотеатр с blu ...</td>\n      <td>4000.0</td>\n      <td>9</td>\n      <td>2017-03-20</td>\n      <td>Private</td>\n      <td>0.43177</td>\n    </tr>\n    <tr>\n      <th>3</th>\n      <td>02996f1dd2ea</td>\n      <td>bf5cccea572d</td>\n      <td>Татарстан</td>\n      <td>Набережные Челны</td>\n      <td>Личные вещи</td>\n      <td>Товары для детей и игрушки</td>\n      <td>Автомобильные кресла</td>\n      <td>NaN</td>\n      <td>NaN</td>\n      <td>Автокресло</td>\n      <td>Продам кресло от0-25кг</td>\n      <td>2200.0</td>\n      <td>286</td>\n      <td>2017-03-25</td>\n      <td>Company</td>\n      <td>0.80323</td>\n    </tr>\n    <tr>\n      <th>4</th>\n      <td>7c90be56d2ab</td>\n      <td>ef50846afc0b</td>\n      <td>Волгоградская область</td>\n      <td>Волгоград</td>\n      <td>Транспорт</td>\n      <td>Автомобили</td>\n      <td>С пробегом</td>\n      <td>ВАЗ (LADA)</td>\n      <td>2110</td>\n      <td>ВАЗ 2110, 2003</td>\n      <td>Все вопросы по телефону.</td>\n      <td>40000.0</td>\n      <td>3</td>\n      <td>2017-03-16</td>\n      <td>Private</td>\n      <td>0.20797</td>\n    </tr>\n    <tr>\n      <th>5</th>\n      <td>51e0962387f7</td>\n      <td>bbfad0b1ad0a</td>\n      <td>Татарстан</td>\n      <td>Чистополь</td>\n      <td>Личные вещи</td>\n      <td>Товары для детей и игрушки</td>\n      <td>Автомобильные кресла</td>\n      <td>NaN</td>\n      <td>NaN</td>\n      <td>Авто люлька</td>\n      <td>В хорошем состоянии</td>\n      <td>1300.0</td>\n      <td>9</td>\n      <td>2017-03-28</td>\n      <td>Private</td>\n      <td>0.80323</td>\n    </tr>\n    <tr>\n      <th>6</th>\n      <td>c4f260a2b48a</td>\n      <td>08f469d2e6f7</td>\n      <td>Нижегородская область</td>\n      <td>Нижний Новгород</td>\n      <td>Для дома и дачи</td>\n      <td>Ремонт и строительство</td>\n      <td>Сантехника и сауна</td>\n      <td>NaN</td>\n      <td>NaN</td>\n      <td>Водонагреватель 100 литров нержавейка плоский</td>\n      <td>Электро водонагреватель накопительный на 100 л...</td>\n      <td>11000.0</td>\n      <td>125</td>\n      <td>2017-03-23</td>\n      <td>Private</td>\n      <td>0.00000</td>\n    </tr>\n    <tr>\n      <th>7</th>\n      <td>6b71309d6a8a</td>\n      <td>fef86baa002c</td>\n      <td>Пермский край</td>\n      <td>Пермь</td>\n      <td>Личные вещи</td>\n      <td>Одежда, обувь, аксессуары</td>\n      <td>Женская одежда</td>\n      <td>Джинсы</td>\n      <td>26</td>\n      <td>Бойфренды colins</td>\n      <td>Бойфренды в хорошем состоянии.</td>\n      <td>500.0</td>\n      <td>61</td>\n      <td>2017-03-25</td>\n      <td>Private</td>\n      <td>0.80323</td>\n    </tr>\n    <tr>\n      <th>8</th>\n      <td>c5b969cb63a2</td>\n      <td>055825270190</td>\n      <td>Оренбургская область</td>\n      <td>Оренбург</td>\n      <td>Личные вещи</td>\n      <td>Одежда, обувь, аксессуары</td>\n      <td>Женская одежда</td>\n      <td>Платья и юбки</td>\n      <td>&gt; 50 (XXL)</td>\n      <td>Платье</td>\n      <td>54 раз мер очень удобное</td>\n      <td>500.0</td>\n      <td>85</td>\n      <td>2017-03-17</td>\n      <td>Private</td>\n      <td>0.00000</td>\n    </tr>\n    <tr>\n      <th>9</th>\n      <td>b1570962e68c</td>\n      <td>f9e8f831d94c</td>\n      <td>Нижегородская область</td>\n      <td>Нижний Новгород</td>\n      <td>Личные вещи</td>\n      <td>Детская одежда и обувь</td>\n      <td>Для девочек</td>\n      <td>Обувь</td>\n      <td>25</td>\n      <td>Полу ботиночки замш натур.Бамбини</td>\n      <td>По стельке 15.5см мерить приокский район. Цвет...</td>\n      <td>400.0</td>\n      <td>136</td>\n      <td>2017-03-22</td>\n      <td>Company</td>\n      <td>0.00000</td>\n    </tr>\n    <tr>\n      <th>10</th>\n      <td>d5480bb4a6e4</td>\n      <td>d46200940f37</td>\n      <td>Ханты-Мансийский АО</td>\n      <td>Ханты-Мансийск</td>\n      <td>Недвижимость</td>\n      <td>Квартиры</td>\n      <td>Сдам</td>\n      <td>На длительный срок</td>\n      <td>1</td>\n      <td>1-к квартира, 25 м², 2/2 эт.</td>\n      <td>Сдается однокомнатная мебелированная квартира ...</td>\n      <td>18000.0</td>\n      <td>6</td>\n      <td>2017-03-25</td>\n      <td>Private</td>\n      <td>0.58853</td>\n    </tr>\n    <tr>\n      <th>11</th>\n      <td>86f41f50d8c1</td>\n      <td>35c2b6b654e0</td>\n      <td>Тюменская область</td>\n      <td>Заводоуковск</td>\n      <td>Личные вещи</td>\n      <td>Одежда, обувь, аксессуары</td>\n      <td>Женская одежда</td>\n      <td>Джинсы</td>\n      <td>Без размера</td>\n      <td>Джинсы</td>\n      <td>NaN</td>\n      <td>1.0</td>\n      <td>4</td>\n      <td>2017-03-19</td>\n      <td>Shop</td>\n      <td>0.00000</td>\n    </tr>\n    <tr>\n      <th>12</th>\n      <td>645237cb3601</td>\n      <td>fc9a38b79414</td>\n      <td>Оренбургская область</td>\n      <td>Оренбург</td>\n      <td>Личные вещи</td>\n      <td>Товары для детей и игрушки</td>\n      <td>Товары для школы</td>\n      <td>NaN</td>\n      <td>NaN</td>\n      <td>Атласы и Контурныя карты за 8 класс</td>\n      <td>Атлас история нового времени,19 век./\\nКонтурн...</td>\n      <td>70.0</td>\n      <td>15</td>\n      <td>2017-03-21</td>\n      <td>Private</td>\n      <td>0.13858</td>\n    </tr>\n    <tr>\n      <th>13</th>\n      <td>df2116f34563</td>\n      <td>3ce3c2318b16</td>\n      <td>Ростовская область</td>\n      <td>Ростов-на-Дону</td>\n      <td>Бытовая электроника</td>\n      <td>Товары для компьютера</td>\n      <td>Мониторы</td>\n      <td>NaN</td>\n      <td>NaN</td>\n      <td>Монитор acer 18.5</td>\n      <td>Продам манитор 18.5 v193HQV. В хорошем состоянии</td>\n      <td>2500.0</td>\n      <td>47</td>\n      <td>2017-03-22</td>\n      <td>Private</td>\n      <td>0.00000</td>\n    </tr>\n    <tr>\n      <th>14</th>\n      <td>a97943ae8158</td>\n      <td>f643d87dd23c</td>\n      <td>Башкортостан</td>\n      <td>Туймазы</td>\n      <td>Животные</td>\n      <td>Собаки</td>\n      <td>Немецкая овчарка</td>\n      <td>NaN</td>\n      <td>NaN</td>\n      <td>Продаются щенки немецкой овчарки</td>\n      <td>родились 1 февраля,три кобеля и сучка.</td>\n      <td>5000.0</td>\n      <td>6</td>\n      <td>2017-03-23</td>\n      <td>Private</td>\n      <td>0.00000</td>\n    </tr>\n    <tr>\n      <th>15</th>\n      <td>4b6abd0a5921</td>\n      <td>94de2b374869</td>\n      <td>Татарстан</td>\n      <td>Казань</td>\n      <td>Личные вещи</td>\n      <td>Одежда, обувь, аксессуары</td>\n      <td>Женская одежда</td>\n      <td>Платья и юбки</td>\n      <td>42–44 (S)</td>\n      <td>Платье женское новое</td>\n      <td>Одето 1 раз на пару часов. Длина 79. Можно кор...</td>\n      <td>800.0</td>\n      <td>86</td>\n      <td>2017-03-27</td>\n      <td>Private</td>\n      <td>0.00000</td>\n    </tr>\n    <tr>\n      <th>16</th>\n      <td>7896ef8fe482</td>\n      <td>007c6bd858cb</td>\n      <td>Краснодарский край</td>\n      <td>Краснодар</td>\n      <td>Транспорт</td>\n      <td>Автомобили</td>\n      <td>С пробегом</td>\n      <td>Chevrolet</td>\n      <td>Lanos</td>\n      <td>Chevrolet Lanos, 2008</td>\n      <td>Кондиционер, гидроусилитель руля, электрически...</td>\n      <td>140000.0</td>\n      <td>201</td>\n      <td>2017-03-18</td>\n      <td>Company</td>\n      <td>0.32100</td>\n    </tr>\n    <tr>\n      <th>17</th>\n      <td>7882b1e77748</td>\n      <td>7a3fda0cdf94</td>\n      <td>Новосибирская область</td>\n      <td>Новосибирск</td>\n      <td>Личные вещи</td>\n      <td>Товары для детей и игрушки</td>\n      <td>Игрушки</td>\n      <td>NaN</td>\n      <td>NaN</td>\n      <td>Объемная цифра 2</td>\n      <td>Размеры 75*53*15. Основа-картон, декор-гофриро...</td>\n      <td>500.0</td>\n      <td>9</td>\n      <td>2017-03-20</td>\n      <td>Private</td>\n      <td>0.00000</td>\n    </tr>\n    <tr>\n      <th>18</th>\n      <td>071e1ed13c5c</td>\n      <td>325cacee50f4</td>\n      <td>Омская область</td>\n      <td>Москаленки</td>\n      <td>Личные вещи</td>\n      <td>Одежда, обувь, аксессуары</td>\n      <td>Женская одежда</td>\n      <td>Верхняя одежда</td>\n      <td>44–46 (M)</td>\n      <td>Куртка весенняя(осенняя)</td>\n      <td>Куртка новая, очень удобная, ценник был утерян...</td>\n      <td>1000.0</td>\n      <td>4</td>\n      <td>2017-03-24</td>\n      <td>Private</td>\n      <td>0.00000</td>\n    </tr>\n    <tr>\n      <th>19</th>\n      <td>0658628930d4</td>\n      <td>27c2d83b766e</td>\n      <td>Белгородская область</td>\n      <td>Белгород</td>\n      <td>Недвижимость</td>\n      <td>Дома, дачи, коттеджи</td>\n      <td>Сниму</td>\n      <td>Коттедж</td>\n      <td>На длительный срок</td>\n      <td>Сниму коттедж</td>\n      <td>Семейная пара из двух человек снимет коттедж с...</td>\n      <td>100000.0</td>\n      <td>5</td>\n      <td>2017-03-28</td>\n      <td>Private</td>\n      <td>0.10342</td>\n    </tr>\n    <tr>\n      <th>20</th>\n      <td>ea12aec32ec3</td>\n      <td>06ee4ff4e99c</td>\n      <td>Новосибирская область</td>\n      <td>Бердск</td>\n      <td>Недвижимость</td>\n      <td>Квартиры</td>\n      <td>Продам</td>\n      <td>2</td>\n      <td>Вторичка</td>\n      <td>2-к квартира, 44 м², 5/5 эт.</td>\n      <td>Дом находиться внутри квартала./\\nПластиковые ...</td>\n      <td>1748000.0</td>\n      <td>461</td>\n      <td>2017-03-17</td>\n      <td>Company</td>\n      <td>0.00000</td>\n    </tr>\n    <tr>\n      <th>21</th>\n      <td>838a82cec0a6</td>\n      <td>5d44315f6d90</td>\n      <td>Свердловская область</td>\n      <td>Екатеринбург</td>\n      <td>Личные вещи</td>\n      <td>Одежда, обувь, аксессуары</td>\n      <td>Женская одежда</td>\n      <td>Верхняя одежда</td>\n      <td>&gt; 50 (XXL)</td>\n      <td>Шапка норковая</td>\n      <td>Продам шапку, норка, цвет коричневый, в отличн...</td>\n      <td>2600.0</td>\n      <td>33</td>\n      <td>2017-03-16</td>\n      <td>Private</td>\n      <td>0.00000</td>\n    </tr>\n    <tr>\n      <th>22</th>\n      <td>de310e6aae86</td>\n      <td>0178e6308f38</td>\n      <td>Челябинская область</td>\n      <td>Магнитогорск</td>\n      <td>Транспорт</td>\n      <td>Автомобили</td>\n      <td>С пробегом</td>\n      <td>Ford</td>\n      <td>Focus</td>\n      <td>Ford Focus, 2005</td>\n      <td>Полная комплектация. ГУР. 4 эсп.  Подогрев сид...</td>\n      <td>249000.0</td>\n      <td>12</td>\n      <td>2017-03-20</td>\n      <td>Private</td>\n      <td>0.10334</td>\n    </tr>\n    <tr>\n      <th>23</th>\n      <td>08b24e170109</td>\n      <td>6630d724bbf5</td>\n      <td>Ростовская область</td>\n      <td>Ростов-на-Дону</td>\n      <td>Личные вещи</td>\n      <td>Детская одежда и обувь</td>\n      <td>Для девочек</td>\n      <td>Обувь</td>\n      <td>25</td>\n      <td>Туфли moschino</td>\n      <td>Очень красивые стильные туфельки, состояние от...</td>\n      <td>1300.0</td>\n      <td>59</td>\n      <td>2017-03-20</td>\n      <td>Private</td>\n      <td>0.00000</td>\n    </tr>\n    <tr>\n      <th>24</th>\n      <td>065a4daba35f</td>\n      <td>19a5cd02c89b</td>\n      <td>Нижегородская область</td>\n      <td>Нижний Новгород</td>\n      <td>Животные</td>\n      <td>Товары для животных</td>\n      <td>NaN</td>\n      <td>NaN</td>\n      <td>NaN</td>\n      <td>Таблетки бравекто</td>\n      <td>Таблетки \"Бравекто\" от блох и клещей по ценам:...</td>\n      <td>NaN</td>\n      <td>310</td>\n      <td>2017-03-16</td>\n      <td>Company</td>\n      <td>0.00000</td>\n    </tr>\n    <tr>\n      <th>25</th>\n      <td>990113ae4f1c</td>\n      <td>d9b494f97062</td>\n      <td>Воронежская область</td>\n      <td>Воронеж</td>\n      <td>Личные вещи</td>\n      <td>Товары для детей и игрушки</td>\n      <td>Игрушки</td>\n      <td>NaN</td>\n      <td>NaN</td>\n      <td>Пинки Пай My Little Pony</td>\n      <td>Пинки Пай ждёт любящую хозяйку./\\nВ комплекте ...</td>\n      <td>1500.0</td>\n      <td>309</td>\n      <td>2017-03-24</td>\n      <td>Company</td>\n      <td>0.10796</td>\n    </tr>\n    <tr>\n      <th>26</th>\n      <td>78164bc09657</td>\n      <td>721c2f914f63</td>\n      <td>Самарская область</td>\n      <td>Тольятти</td>\n      <td>Для дома и дачи</td>\n      <td>Мебель и интерьер</td>\n      <td>Текстиль и ковры</td>\n      <td>NaN</td>\n      <td>NaN</td>\n      <td>Ламбрикен</td>\n      <td>Продам ламбрикен в хорошем состоянии,длина 2,20.</td>\n      <td>1000.0</td>\n      <td>59</td>\n      <td>2017-03-26</td>\n      <td>Private</td>\n      <td>0.00000</td>\n    </tr>\n    <tr>\n      <th>27</th>\n      <td>fbe29970a8a5</td>\n      <td>2f0e2746d462</td>\n      <td>Кемеровская область</td>\n      <td>Новокузнецк</td>\n      <td>Личные вещи</td>\n      <td>Одежда, обувь, аксессуары</td>\n      <td>Женская одежда</td>\n      <td>Обувь</td>\n      <td>37</td>\n      <td>Ботинки</td>\n      <td>Ботинки б/у в хорошем состоянии. Размер 37</td>\n      <td>1500.0</td>\n      <td>8</td>\n      <td>2017-03-27</td>\n      <td>Private</td>\n      <td>0.00000</td>\n    </tr>\n    <tr>\n      <th>28</th>\n      <td>71d9399b59a2</td>\n      <td>965ee1e259eb</td>\n      <td>Саратовская область</td>\n      <td>Саратов</td>\n      <td>Личные вещи</td>\n      <td>Одежда, обувь, аксессуары</td>\n      <td>Женская одежда</td>\n      <td>Платья и юбки</td>\n      <td>46–48 (L)</td>\n      <td>Продаю новое платье</td>\n      <td>Новое, очень нарядное платье, Рост 170 см, раз...</td>\n      <td>1000.0</td>\n      <td>12</td>\n      <td>2017-03-25</td>\n      <td>Private</td>\n      <td>0.00000</td>\n    </tr>\n    <tr>\n      <th>29</th>\n      <td>4941f0385575</td>\n      <td>d283308a713b</td>\n      <td>Нижегородская область</td>\n      <td>Нижний Новгород</td>\n      <td>Личные вещи</td>\n      <td>Детская одежда и обувь</td>\n      <td>Для мальчиков</td>\n      <td>Другое</td>\n      <td>NaN</td>\n      <td>Песочник Crockid</td>\n      <td>Состояние хорошее, носили мало.</td>\n      <td>200.0</td>\n      <td>20</td>\n      <td>2017-03-19</td>\n      <td>Private</td>\n      <td>0.00000</td>\n    </tr>\n    <tr>\n      <th>...</th>\n      <td>...</td>\n      <td>...</td>\n      <td>...</td>\n      <td>...</td>\n      <td>...</td>\n      <td>...</td>\n      <td>...</td>\n      <td>...</td>\n      <td>...</td>\n      <td>...</td>\n      <td>...</td>\n      <td>...</td>\n      <td>...</td>\n      <td>...</td>\n      <td>...</td>\n      <td>...</td>\n    </tr>\n    <tr>\n      <th>1503394</th>\n      <td>c346749a7127</td>\n      <td>6df435165550</td>\n      <td>Ростовская область</td>\n      <td>Ростов-на-Дону</td>\n      <td>Для дома и дачи</td>\n      <td>Мебель и интерьер</td>\n      <td>Шкафы и комоды</td>\n      <td>NaN</td>\n      <td>NaN</td>\n      <td>Офисная мебель</td>\n      <td>В связи с оптимизацией помещений, продаю офисн...</td>\n      <td>2000.0</td>\n      <td>5</td>\n      <td>2017-03-16</td>\n      <td>Private</td>\n      <td>0.33720</td>\n    </tr>\n    <tr>\n      <th>1503395</th>\n      <td>3c073bb117d8</td>\n      <td>f3db5b0b12a1</td>\n      <td>Иркутская область</td>\n      <td>Братск</td>\n      <td>Транспорт</td>\n      <td>Мотоциклы и мототехника</td>\n      <td>Вездеходы</td>\n      <td>NaN</td>\n      <td>NaN</td>\n      <td>Продам болотоход юпитер 3</td>\n      <td>продам болотоход юпитер 3</td>\n      <td>20000.0</td>\n      <td>41</td>\n      <td>2017-03-28</td>\n      <td>Company</td>\n      <td>0.00000</td>\n    </tr>\n    <tr>\n      <th>1503396</th>\n      <td>6fcc0d49b22d</td>\n      <td>cd553840f1a2</td>\n      <td>Тульская область</td>\n      <td>Кимовск</td>\n      <td>Хобби и отдых</td>\n      <td>Музыкальные инструменты</td>\n      <td>Пианино и другие клавишные</td>\n      <td>NaN</td>\n      <td>NaN</td>\n      <td>Пианино Аккорд</td>\n      <td>Находится в Кимовске. Самовывоз</td>\n      <td>NaN</td>\n      <td>32</td>\n      <td>2017-03-21</td>\n      <td>Private</td>\n      <td>0.00000</td>\n    </tr>\n    <tr>\n      <th>1503397</th>\n      <td>f7cb51309717</td>\n      <td>a96bf12eaaba</td>\n      <td>Ярославская область</td>\n      <td>Ярославль</td>\n      <td>Личные вещи</td>\n      <td>Одежда, обувь, аксессуары</td>\n      <td>Женская одежда</td>\n      <td>Верхняя одежда</td>\n      <td>44–46 (M)</td>\n      <td>Жакет</td>\n      <td>Стильный жакет. Можно и для беременной, можно ...</td>\n      <td>450.0</td>\n      <td>36</td>\n      <td>2017-03-20</td>\n      <td>Private</td>\n      <td>0.00000</td>\n    </tr>\n    <tr>\n      <th>1503398</th>\n      <td>cb74d5fa1498</td>\n      <td>141a6ebb6456</td>\n      <td>Красноярский край</td>\n      <td>Красноярск</td>\n      <td>Личные вещи</td>\n      <td>Одежда, обувь, аксессуары</td>\n      <td>Женская одежда</td>\n      <td>Верхняя одежда</td>\n      <td>44–46 (M)</td>\n      <td>Пальто демисезонное</td>\n      <td>пальто,фирмы \"Белла\",  размер 46, цвет \"фуксия...</td>\n      <td>500.0</td>\n      <td>8</td>\n      <td>2017-03-18</td>\n      <td>Private</td>\n      <td>0.00000</td>\n    </tr>\n    <tr>\n      <th>1503399</th>\n      <td>55760672b23e</td>\n      <td>085e58413b19</td>\n      <td>Волгоградская область</td>\n      <td>Волгоград</td>\n      <td>Хобби и отдых</td>\n      <td>Книги и журналы</td>\n      <td>Книги</td>\n      <td>NaN</td>\n      <td>NaN</td>\n      <td>Серия книг \"Бессмертные \" все сразу</td>\n      <td>Цена за все книги оптом</td>\n      <td>300.0</td>\n      <td>2</td>\n      <td>2017-03-26</td>\n      <td>Private</td>\n      <td>0.00000</td>\n    </tr>\n    <tr>\n      <th>1503400</th>\n      <td>15dc060224ab</td>\n      <td>13d487ead5a2</td>\n      <td>Воронежская область</td>\n      <td>Новая Усмань</td>\n      <td>Бытовая электроника</td>\n      <td>Товары для компьютера</td>\n      <td>Комплектующие</td>\n      <td>Оперативная память</td>\n      <td>NaN</td>\n      <td>Оперативная память</td>\n      <td>NaN</td>\n      <td>400.0</td>\n      <td>12</td>\n      <td>2017-03-20</td>\n      <td>Private</td>\n      <td>0.00000</td>\n    </tr>\n    <tr>\n      <th>1503401</th>\n      <td>87cb486a418d</td>\n      <td>bd8cd55a533a</td>\n      <td>Ханты-Мансийский АО</td>\n      <td>Нефтеюганск</td>\n      <td>Личные вещи</td>\n      <td>Детская одежда и обувь</td>\n      <td>Для девочек</td>\n      <td>Брюки</td>\n      <td>98-104 см (2-4 года)</td>\n      <td>Джинсы для девочек</td>\n      <td>Состояние хорошее. Демисезонные</td>\n      <td>250.0</td>\n      <td>6</td>\n      <td>2017-03-26</td>\n      <td>Private</td>\n      <td>0.14989</td>\n    </tr>\n    <tr>\n      <th>1503402</th>\n      <td>5e317564107b</td>\n      <td>7d2bc0de4caa</td>\n      <td>Самарская область</td>\n      <td>Самара</td>\n      <td>Транспорт</td>\n      <td>Автомобили</td>\n      <td>С пробегом</td>\n      <td>BMW</td>\n      <td>3 серия</td>\n      <td>BMW 3 серия, 2009</td>\n      <td>Продаю bmw 3 серии в прекрасном состоянии, пра...</td>\n      <td>720000.0</td>\n      <td>61</td>\n      <td>2017-03-20</td>\n      <td>Private</td>\n      <td>0.23044</td>\n    </tr>\n    <tr>\n      <th>1503403</th>\n      <td>d630ca83fc9e</td>\n      <td>ad73bbe882db</td>\n      <td>Нижегородская область</td>\n      <td>Нижний Новгород</td>\n      <td>Личные вещи</td>\n      <td>Детская одежда и обувь</td>\n      <td>Для девочек</td>\n      <td>Обувь</td>\n      <td>&lt; 19</td>\n      <td>Сандалии Таши Орто</td>\n      <td>Продам сандалии б/у,размер 18 на первые шаги,п...</td>\n      <td>500.0</td>\n      <td>23</td>\n      <td>2017-03-20</td>\n      <td>Private</td>\n      <td>0.00000</td>\n    </tr>\n    <tr>\n      <th>1503404</th>\n      <td>732b69fced92</td>\n      <td>94a9c852a234</td>\n      <td>Самарская область</td>\n      <td>Самара</td>\n      <td>Транспорт</td>\n      <td>Автомобили</td>\n      <td>С пробегом</td>\n      <td>Mercedes-Benz</td>\n      <td>M-класс</td>\n      <td>Mercedes-Benz M-класс, 2008</td>\n      <td>В отличном состоянии, вложений не требует, 100...</td>\n      <td>1300000.0</td>\n      <td>1</td>\n      <td>2017-03-28</td>\n      <td>Private</td>\n      <td>0.01232</td>\n    </tr>\n    <tr>\n      <th>1503405</th>\n      <td>fc8ff7c77732</td>\n      <td>049099972988</td>\n      <td>Калининградская область</td>\n      <td>Калининград</td>\n      <td>Личные вещи</td>\n      <td>Товары для детей и игрушки</td>\n      <td>Детская мебель</td>\n      <td>NaN</td>\n      <td>NaN</td>\n      <td>Продается шезлонг фирмы Чико</td>\n      <td>Продается детский шезлонг +0 до 9 кг. В отличн...</td>\n      <td>3000.0</td>\n      <td>39</td>\n      <td>2017-03-26</td>\n      <td>Private</td>\n      <td>0.00000</td>\n    </tr>\n    <tr>\n      <th>1503406</th>\n      <td>bb532fcc7dec</td>\n      <td>391e0fa1bb2d</td>\n      <td>Краснодарский край</td>\n      <td>Холмская</td>\n      <td>Для дома и дачи</td>\n      <td>Ремонт и строительство</td>\n      <td>Садовая техника</td>\n      <td>NaN</td>\n      <td>NaN</td>\n      <td>Садовая тачка</td>\n      <td>В отличном состоянии /\\nзабирать в холмской центр</td>\n      <td>3000.0</td>\n      <td>259</td>\n      <td>2017-03-16</td>\n      <td>Private</td>\n      <td>0.86521</td>\n    </tr>\n    <tr>\n      <th>1503407</th>\n      <td>ff2a88b765c6</td>\n      <td>152a1d5e6178</td>\n      <td>Свердловская область</td>\n      <td>Екатеринбург</td>\n      <td>Личные вещи</td>\n      <td>Детская одежда и обувь</td>\n      <td>Для мальчиков</td>\n      <td>Верхняя одежда</td>\n      <td>86-92 см (1-2 года)</td>\n      <td>Лёгкая куртка размер 92</td>\n      <td>Двусторонняя!</td>\n      <td>300.0</td>\n      <td>33</td>\n      <td>2017-03-19</td>\n      <td>Private</td>\n      <td>0.00000</td>\n    </tr>\n    <tr>\n      <th>1503408</th>\n      <td>d23a9e2a65e1</td>\n      <td>02652bf7abdd</td>\n      <td>Саратовская область</td>\n      <td>Саратов</td>\n      <td>Недвижимость</td>\n      <td>Коммерческая недвижимость</td>\n      <td>Продам</td>\n      <td>Офисное помещение</td>\n      <td>NaN</td>\n      <td>Нежилое помещение</td>\n      <td>Продается 4 офисных помещения площадью от 106 ...</td>\n      <td>1600000.0</td>\n      <td>24</td>\n      <td>2017-03-20</td>\n      <td>Company</td>\n      <td>0.12384</td>\n    </tr>\n    <tr>\n      <th>1503409</th>\n      <td>79386f3f2573</td>\n      <td>e8788c35b158</td>\n      <td>Воронежская область</td>\n      <td>Воронеж</td>\n      <td>Личные вещи</td>\n      <td>Детская одежда и обувь</td>\n      <td>Для девочек</td>\n      <td>Платья и юбки</td>\n      <td>98-104 см (2-4 года)</td>\n      <td>Нвые платья</td>\n      <td>Новые платья разные в наличии!!!</td>\n      <td>480.0</td>\n      <td>145</td>\n      <td>2017-03-22</td>\n      <td>Company</td>\n      <td>0.12459</td>\n    </tr>\n    <tr>\n      <th>1503410</th>\n      <td>2bc8c895545b</td>\n      <td>f1fbfb3dc6fa</td>\n      <td>Краснодарский край</td>\n      <td>Новороссийск</td>\n      <td>Личные вещи</td>\n      <td>Одежда, обувь, аксессуары</td>\n      <td>Женская одежда</td>\n      <td>Платья и юбки</td>\n      <td>44–46 (M)</td>\n      <td>Платье женское</td>\n      <td>Платье очень комфортное, покупала на праздник,...</td>\n      <td>3000.0</td>\n      <td>26</td>\n      <td>2017-03-22</td>\n      <td>Private</td>\n      <td>0.00000</td>\n    </tr>\n    <tr>\n      <th>1503411</th>\n      <td>43ad2ec1cd29</td>\n      <td>b1ff78e0d361</td>\n      <td>Алтайский край</td>\n      <td>Новоалтайск</td>\n      <td>Личные вещи</td>\n      <td>Одежда, обувь, аксессуары</td>\n      <td>Женская одежда</td>\n      <td>Трикотаж</td>\n      <td>42–44 (S)</td>\n      <td>Кофта</td>\n      <td>NaN</td>\n      <td>150.0</td>\n      <td>17</td>\n      <td>2017-03-26</td>\n      <td>Private</td>\n      <td>0.00000</td>\n    </tr>\n    <tr>\n      <th>1503412</th>\n      <td>872691eb6232</td>\n      <td>c257da473f0b</td>\n      <td>Красноярский край</td>\n      <td>Красноярск</td>\n      <td>Хобби и отдых</td>\n      <td>Коллекционирование</td>\n      <td>Грампластинки</td>\n      <td>NaN</td>\n      <td>NaN</td>\n      <td>Винил пластинка СССР А. Кальянов Жена жена</td>\n      <td>Виниловай грампластинка. /\\nСостояние конверта...</td>\n      <td>150.0</td>\n      <td>78</td>\n      <td>2017-03-21</td>\n      <td>Company</td>\n      <td>0.00000</td>\n    </tr>\n    <tr>\n      <th>1503413</th>\n      <td>00b6a41d5af9</td>\n      <td>704b0a259816</td>\n      <td>Ханты-Мансийский АО</td>\n      <td>Когалым</td>\n      <td>Личные вещи</td>\n      <td>Товары для детей и игрушки</td>\n      <td>Детские коляски</td>\n      <td>NaN</td>\n      <td>NaN</td>\n      <td>Продам коляску 2в1</td>\n      <td>Коляска в идеальном состоянии, практически не ...</td>\n      <td>8000.0</td>\n      <td>77</td>\n      <td>2017-03-16</td>\n      <td>Private</td>\n      <td>0.00000</td>\n    </tr>\n    <tr>\n      <th>1503414</th>\n      <td>72be5f7bac89</td>\n      <td>548d266baeda</td>\n      <td>Алтайский край</td>\n      <td>Бийск</td>\n      <td>Для дома и дачи</td>\n      <td>Мебель и интерьер</td>\n      <td>Кровати, диваны и кресла</td>\n      <td>NaN</td>\n      <td>NaN</td>\n      <td>Мягкая мебель</td>\n      <td>продам мягкую мебель-диван и 2 кресла-кровати,...</td>\n      <td>7000.0</td>\n      <td>8</td>\n      <td>2017-03-24</td>\n      <td>Private</td>\n      <td>0.00000</td>\n    </tr>\n    <tr>\n      <th>1503415</th>\n      <td>d4bf418c598e</td>\n      <td>a45156b6ccfc</td>\n      <td>Челябинская область</td>\n      <td>Копейск</td>\n      <td>Недвижимость</td>\n      <td>Квартиры</td>\n      <td>Продам</td>\n      <td>2</td>\n      <td>Вторичка</td>\n      <td>2-к квартира, 59 м², 5/10 эт.</td>\n      <td>Дом сдан заселен. Свидетельство о собственност...</td>\n      <td>1850000.0</td>\n      <td>6</td>\n      <td>2017-03-15</td>\n      <td>Private</td>\n      <td>0.00000</td>\n    </tr>\n    <tr>\n      <th>1503416</th>\n      <td>a927b25d4daa</td>\n      <td>5db5d1e60f38</td>\n      <td>Тульская область</td>\n      <td>Тула</td>\n      <td>Личные вещи</td>\n      <td>Одежда, обувь, аксессуары</td>\n      <td>Женская одежда</td>\n      <td>Обувь</td>\n      <td>38</td>\n      <td>Резиновые сапоги Lucky Land, размер 36,37,38.Н...</td>\n      <td>Продам Новые резиновые сапоги Lucky Land, разм...</td>\n      <td>200.0</td>\n      <td>89</td>\n      <td>2017-03-24</td>\n      <td>Private</td>\n      <td>0.00000</td>\n    </tr>\n    <tr>\n      <th>1503417</th>\n      <td>21a474db168f</td>\n      <td>28ca07eeb01a</td>\n      <td>Ставропольский край</td>\n      <td>Ставрополь</td>\n      <td>Транспорт</td>\n      <td>Автомобили</td>\n      <td>С пробегом</td>\n      <td>ВАЗ (LADA)</td>\n      <td>2114 Samara</td>\n      <td>ВАЗ 2114 Samara, 2009</td>\n      <td>Продаю по обстоятельствам. Машина в хорошем со...</td>\n      <td>160000.0</td>\n      <td>13</td>\n      <td>2017-03-27</td>\n      <td>Private</td>\n      <td>0.73760</td>\n    </tr>\n    <tr>\n      <th>1503418</th>\n      <td>8ab4c1e56046</td>\n      <td>97146e7aea69</td>\n      <td>Оренбургская область</td>\n      <td>Оренбург</td>\n      <td>Личные вещи</td>\n      <td>Одежда, обувь, аксессуары</td>\n      <td>Женская одежда</td>\n      <td>Платья и юбки</td>\n      <td>48–50 (XL)</td>\n      <td>Платье фирмы zarina, размер 50</td>\n      <td>В хорошем состоянии,  ткань плотная (рисунок т...</td>\n      <td>500.0</td>\n      <td>10</td>\n      <td>2017-03-17</td>\n      <td>Private</td>\n      <td>0.12869</td>\n    </tr>\n    <tr>\n      <th>1503419</th>\n      <td>5e6b7f0f3f65</td>\n      <td>dd05217165ea</td>\n      <td>Пермский край</td>\n      <td>Пермь</td>\n      <td>Личные вещи</td>\n      <td>Детская одежда и обувь</td>\n      <td>Для девочек</td>\n      <td>Обувь</td>\n      <td>26</td>\n      <td>Ботиночки</td>\n      <td>NaN</td>\n      <td>300.0</td>\n      <td>7</td>\n      <td>2017-03-20</td>\n      <td>Private</td>\n      <td>0.25019</td>\n    </tr>\n    <tr>\n      <th>1503420</th>\n      <td>d1f0910d2126</td>\n      <td>dc23ef451c8a</td>\n      <td>Краснодарский край</td>\n      <td>Краснодар</td>\n      <td>Услуги</td>\n      <td>Предложение услуг</td>\n      <td>Ремонт, строительство</td>\n      <td>Ремонт квартиры</td>\n      <td>NaN</td>\n      <td>Натяжной потолок</td>\n      <td>Произведем бесплатный замер, изготовим и устан...</td>\n      <td>200.0</td>\n      <td>1</td>\n      <td>2017-03-28</td>\n      <td>Private</td>\n      <td>0.60000</td>\n    </tr>\n    <tr>\n      <th>1503421</th>\n      <td>bc04866bc803</td>\n      <td>66a7016a5995</td>\n      <td>Башкортостан</td>\n      <td>Белебей</td>\n      <td>Недвижимость</td>\n      <td>Квартиры</td>\n      <td>Продам</td>\n      <td>4</td>\n      <td>Вторичка</td>\n      <td>4-к квартира, 83 м², 4/5 эт.</td>\n      <td>Продам квартиру с отличным ремонтом , две лодж...</td>\n      <td>NaN</td>\n      <td>50</td>\n      <td>2017-03-21</td>\n      <td>Company</td>\n      <td>0.39569</td>\n    </tr>\n    <tr>\n      <th>1503422</th>\n      <td>f782f2ad9349</td>\n      <td>2d3ac1f5a7b3</td>\n      <td>Пермский край</td>\n      <td>Березники</td>\n      <td>Личные вещи</td>\n      <td>Детская одежда и обувь</td>\n      <td>Для девочек</td>\n      <td>Обувь</td>\n      <td>27</td>\n      <td>Туфли-балетки</td>\n      <td>Продам красивые туфли в хорошем состоянии!</td>\n      <td>350.0</td>\n      <td>33</td>\n      <td>2017-03-22</td>\n      <td>Private</td>\n      <td>0.00000</td>\n    </tr>\n    <tr>\n      <th>1503423</th>\n      <td>9ad3b7bff1db</td>\n      <td>f3342ccd95c8</td>\n      <td>Краснодарский край</td>\n      <td>Анапа</td>\n      <td>Личные вещи</td>\n      <td>Товары для детей и игрушки</td>\n      <td>Игрушки</td>\n      <td>NaN</td>\n      <td>NaN</td>\n      <td>Кукольные домики из берез. фанеры (большой выбор)</td>\n      <td>ПРЕДЛАГАЕМ ВАШЕМУ ВНИМАНИЮ УНИКАЛЬНЫЕ ИГРУШКИ ...</td>\n      <td>1500.0</td>\n      <td>18</td>\n      <td>2017-03-21</td>\n      <td>Private</td>\n      <td>0.00000</td>\n    </tr>\n  </tbody>\n</table>\n<p>1503424 rows × 16 columns</p>\n</div>"
          },
          "metadata": {}
        }
      ]
    },
    {
      "metadata": {
        "_uuid": "d78eb8bed497f99fb26f90a652d6891a131be19a"
      },
      "cell_type": "markdown",
      "source": "Abaixo, todos os dados que serão usados para treino estão sendo codificados para valores entre 0 e número de classes menos 1."
    },
    {
      "metadata": {
        "trusted": true,
        "_uuid": "226e2998c178dbf0b4e1d8d77fd895a5358a3862"
      },
      "cell_type": "code",
      "source": "#transforming columns\nenc = {}\nfor col in train_df.columns:\n    enc[col] = LabelEncoder()\n    enc[col].fit(enc_df[col].values.astype(str))\n    train_df[col] = enc[col].fit_transform(train_df[col].values.astype(str))\ny_enc = LabelEncoder()\nY_df = y_enc.fit_transform(Y_df)\n\nprint (\"Label Encoding done\")",
      "execution_count": 6,
      "outputs": [
        {
          "output_type": "stream",
          "text": "Label Encoding done\n",
          "name": "stdout"
        }
      ]
    },
    {
      "metadata": {
        "_uuid": "50054ee3ce318177a61f52b4bf17e1a673610d84"
      },
      "cell_type": "markdown",
      "source": "## Explicar o que foi feito\n"
    },
    {
      "metadata": {
        "trusted": true,
        "_uuid": "9e9c035794ab43ec02d71dc7c72c89d450df8007"
      },
      "cell_type": "code",
      "source": "train_size = 100000\ndesc_df = train['description'][:train_size]\nprint ('Starting vectorizing')\nhash_vect = HashingVectorizer(n_features = 2**10, encoding = 'KOI8-R', stop_words = stopwords.words('russian'))\ncount_vect = CountVectorizer(encoding = 'KOI8-R', stop_words = stopwords.words('russian'))\n\ndesc_vec = hash_vect.fit_transform(desc_df.values.astype(str))\nsparse_desc = SparseSeries(desc_vec.toarray().ravel(), fill_value=0)\nprint (\"Vectorizing done\")",
      "execution_count": 11,
      "outputs": [
        {
          "output_type": "stream",
          "text": "Starting vectorizing\nVectorizing done\n",
          "name": "stdout"
        }
      ]
    },
    {
      "metadata": {
        "_uuid": "1b3fda9fcbb00db19781e7b97a5fc201de36fc86"
      },
      "cell_type": "markdown",
      "source": "## Iniciando o treinamento com o dataset\nNesta parte, será iniciado o treinamento com o dataset que foi pré-processado acima. Iremos utilizar os métodos: DecisionTreeClassifier, SVM e GradientBoosting, todos eles presentes no scikit-learn.\n\nComo o dataset é absurdamente grande, ele será dividido em pequenas partes para ser testado.  Algumas partes serão usadas apenas para o fit e outras serão usadas para testar o quanto o método está acertando. Ao final, utilizaremos a média dos acertos para verificar qual método foi mais eficiente."
    },
    {
      "metadata": {
        "trusted": true,
        "_uuid": "4476def46c4a2c4453287f3825ab0e178010bd8f"
      },
      "cell_type": "code",
      "source": "train_df_fit = train_df[:train_size]\ntrain_df_fit['description'] = sparse_desc[:train_size]\nY_df_fit = Y_df[:train_size]\n\nprint ('Train shape: ',train_df_fit.shape)\nprint ('Test shape: ',test.shape)\nprint ('Y_df: ', Y_df_fit.shape)",
      "execution_count": 12,
      "outputs": [
        {
          "output_type": "stream",
          "text": "Train shape:  (100000, 11)\nTest shape:  (508438, 15)\nY_df:  (100000,)\n",
          "name": "stdout"
        },
        {
          "output_type": "stream",
          "text": "/opt/conda/lib/python3.6/site-packages/ipykernel_launcher.py:2: SettingWithCopyWarning: \nA value is trying to be set on a copy of a slice from a DataFrame.\nTry using .loc[row_indexer,col_indexer] = value instead\n\nSee the caveats in the documentation: http://pandas.pydata.org/pandas-docs/stable/indexing.html#indexing-view-versus-copy\n  \n",
          "name": "stderr"
        }
      ]
    },
    {
      "metadata": {
        "_uuid": "c14c2c872b58578ddf990f5e8224a106f1cd367a"
      },
      "cell_type": "markdown",
      "source": "Iniciaremos com o método Árvore de Decisão"
    },
    {
      "metadata": {
        "trusted": true,
        "_uuid": "87c93ae88dd7313654c3a7231798f48e80dc6015"
      },
      "cell_type": "code",
      "source": "#fazendo o treinamento com fit\nclf_tree = tree.DecisionTreeClassifier()\nclf_tree = clf_tree.fit(train_df_fit, Y_df_fit)\n\ntrain_df_test = train_df[100000:105000]\ntrain_df_test['description'] = sparse_desc[100000:105000]\nY_df_test = Y_df[100000:105000]\nclf_tree.score(train_df_test, Y_df_test)",
      "execution_count": 16,
      "outputs": [
        {
          "output_type": "stream",
          "text": "/opt/conda/lib/python3.6/site-packages/ipykernel_launcher.py:6: SettingWithCopyWarning: \nA value is trying to be set on a copy of a slice from a DataFrame.\nTry using .loc[row_indexer,col_indexer] = value instead\n\nSee the caveats in the documentation: http://pandas.pydata.org/pandas-docs/stable/indexing.html#indexing-view-versus-copy\n  \n",
          "name": "stderr"
        },
        {
          "output_type": "execute_result",
          "execution_count": 16,
          "data": {
            "text/plain": "0.48859999999999998"
          },
          "metadata": {}
        }
      ]
    },
    {
      "metadata": {
        "_uuid": "f4efde8ddd039d3293e1250b85f45a7f375d59b7"
      },
      "cell_type": "markdown",
      "source": "SVM"
    },
    {
      "metadata": {
        "trusted": true,
        "scrolled": true,
        "_uuid": "f85c240174c685da1e96fd09ca7ee5bff902da28"
      },
      "cell_type": "code",
      "source": "#fazendo o treinamento com fit\nclf_svc = svm.SVC()\nclf_svc = clf_svc.fit(train_df_fit, Y_df_fit)\nclf_svc.score(train_df_test, Y_df_test)\n",
      "execution_count": null,
      "outputs": [
        {
          "output_type": "stream",
          "text": "/opt/conda/lib/python3.6/site-packages/sklearn/svm/base.py:194: FutureWarning: The default value of gamma will change from 'auto' to 'scale' in version 0.22 to account better for unscaled features. Set gamma explicitly to 'auto' or 'scale' to avoid this warning.\n  \"avoid this warning.\", FutureWarning)\n",
          "name": "stderr"
        }
      ]
    },
    {
      "metadata": {
        "_uuid": "169d5d66c1bf09e654765e5443f6f05a1fbbf250"
      },
      "cell_type": "markdown",
      "source": "## Resultados\nComo podemos ver acima, o método **COLOCAR MÉTODO AQUI** obteve melhor acurácia média - quanto o método acertou - dentre os 3 métodos testados. Por conta disto, ele será utilizado para prever as probabilidades correspondentes às informações contidas no *test*.\n\nMas, antes, os dados contidos em *test* também passarão pelo LabelEncoder, para codificação. Após, será utilizado o predict do método **COLOCAR NOME DO MÉTODO QUE SERÁ UTILIZADO**. Depois do predict, é utilizado o método inverse_transform da classe LabelEncoder para decodificar o resultado e saber os reais valores."
    },
    {
      "metadata": {
        "trusted": true,
        "collapsed": true,
        "_uuid": "adc5fdf7bcc2b2555cee2ac8e3e3c42eb0f8246d"
      },
      "cell_type": "code",
      "source": "#tirando colunas que não foram utilizadas\ntest_size = test.shape[0]\n\ndesc_test = test['description'][:test_size]\ntest_df = test.drop(['item_id','activation_date','user_type', 'title','description'], axis = 1)\ntest_df = test_df[:test_size]\nprint('New test: ', test_df.shape)",
      "execution_count": null,
      "outputs": []
    },
    {
      "metadata": {
        "trusted": true,
        "collapsed": true,
        "_uuid": "b3f441360947924e388dfc7c21c64f40b473c5ec"
      },
      "cell_type": "code",
      "source": "#fazendo encoder\nfor col in test_df.columns:\n    print (col)\n    test_df[col] = enc[col].transform(test_df[col].values.astype(str))\n\ndesc_test_vec = hash_vect.transform(desc_test.values.astype(str))\ntest_df['description'] = pd.SparseArray(desc_test_vec.toarray().ravel(), fill_value = 0)[:test_size]",
      "execution_count": null,
      "outputs": []
    },
    {
      "metadata": {
        "trusted": true,
        "collapsed": true,
        "_uuid": "4dd310ee7fcb6f75930bbd6268189ba599b7afea"
      },
      "cell_type": "code",
      "source": "#MUDAR CADA CLF PARA UM COM NOME DO MÉTODO CLF_MÉTODO\nres = clf_svc.predict(test_df)\ny_enc.inverse_transform(res)",
      "execution_count": null,
      "outputs": []
    }
  ],
  "metadata": {
    "kernelspec": {
      "display_name": "Python 3",
      "language": "python",
      "name": "python3"
    },
    "language_info": {
      "name": "python",
      "version": "3.6.5",
      "mimetype": "text/x-python",
      "codemirror_mode": {
        "name": "ipython",
        "version": 3
      },
      "pygments_lexer": "ipython3",
      "nbconvert_exporter": "python",
      "file_extension": ".py"
    }
  },
  "nbformat": 4,
  "nbformat_minor": 1
}